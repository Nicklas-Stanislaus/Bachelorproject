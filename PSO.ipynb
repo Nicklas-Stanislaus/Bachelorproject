{
 "cells": [
  {
   "cell_type": "code",
   "execution_count": 1,
   "id": "popular-trademark",
   "metadata": {},
   "outputs": [],
   "source": [
    "import numpy as np"
   ]
  },
  {
   "cell_type": "code",
   "execution_count": 91,
   "id": "local-liberal",
   "metadata": {},
   "outputs": [],
   "source": [
    "def fit_func(vs):\n",
    "    # paraboloid centered at (c, d) with z = 0\n",
    "    c, d = -41095, 122222 \n",
    "    z = (vs[0] - c)**2 + (vs[1] - d)**2 \n",
    "    return z"
   ]
  },
  {
   "cell_type": "code",
   "execution_count": 121,
   "id": "hired-presentation",
   "metadata": {},
   "outputs": [
    {
     "name": "stdout",
     "output_type": "stream",
     "text": [
      "Best position: [-52603.10404883 125132.65400391]\n",
      "Value at best position: 140908365.52908546\n"
     ]
    }
   ],
   "source": [
    "#### Params\n",
    "dims = 2\n",
    "lims = [(-10000000, 10000000, dim) for dim in range(dims)]\n",
    "n_particles = 2\n",
    "w = 0.72 # Inertia weight \n",
    "c1 = 1.2 # Cognitive coefficient\n",
    "c2 = 1.2 # Social coefficient\n",
    "v_max = 1000000 # maximum velocity \n",
    "iterations = 100\n",
    "\n",
    "#### initiazialisation \n",
    "#current position of particle\n",
    "current_pos = np.zeros(shape = (n_particles, dims))\n",
    "for lim_low, lim_up, dim in lims: \n",
    "    current_pos[:,dim] = np.random.uniform(lim_low, lim_up, n_particles) \n",
    "\n",
    "#current velocity of particle\n",
    "velocity = np.zeros(shape = (n_particles, dims)) \n",
    "for lim_low, lim_up, dim in lims: \n",
    "    velocity[:,dim] = np.random.uniform(lim_low, lim_up, n_particles) \n",
    "\n",
    "#Best position observed by particle\n",
    "best_pos = np.copy(current_pos) \n",
    "\n",
    "#index of overall best particle position \n",
    "index_best_overall = np.argmax([fit_func(x) for x in current_pos]) \n",
    "\n",
    "\n",
    "### interation loop\n",
    "for it in range(iterations): \n",
    "    #movement \n",
    "    velocity = w * velocity + c1 * (best_pos - current_pos) \\\n",
    "                            + c2 * (best_pos[index_best_overall] - current_pos)\n",
    " \n",
    "    velocity[velocity > v_max] = v_max \n",
    "    velocity[velocity < -v_max] = -v_max\n",
    "    \n",
    "    current_pos = current_pos + velocity\n",
    " \n",
    "    #confinement\n",
    "    for lim_low, lim_up, dim in lims: \n",
    "        pos_column = current_pos[:, dim] \n",
    "        vel_column = velocity[:, dim] \n",
    "        \n",
    "        index_where_larger = pos_column > lim_up \n",
    "        index_where_smaller = pos_column < lim_low\n",
    "        \n",
    "        pos_column[index_where_larger] = lim_up\n",
    "        pos_column[index_where_smaller] = lim_low\n",
    "        vel_column[index_where_smaller + index_where_larger] = 0\n",
    "\n",
    "    #memorization - Notice that this is for minizization\n",
    "    for i in range(n_particles): \n",
    "        if fit_func(current_pos[i]) < fit_func(best_pos[i]):\n",
    "            best_pos[i] = current_pos[i] #np.copy?\n",
    "        if fit_func(best_pos[i]) < fit_func(best_pos[index_best_overall]):\n",
    "            index_best_overall = i\n",
    " \n",
    "    \n",
    "print(\"Best position:\", best_pos[index_best_overall])\n",
    "print(\"Value at best position:\", fit_func(best_pos[index_best_overall]))"
   ]
  }
 ],
 "metadata": {
  "kernelspec": {
   "display_name": "Python 3 (ipykernel)",
   "language": "python",
   "name": "python3"
  },
  "language_info": {
   "codemirror_mode": {
    "name": "ipython",
    "version": 3
   },
   "file_extension": ".py",
   "mimetype": "text/x-python",
   "name": "python",
   "nbconvert_exporter": "python",
   "pygments_lexer": "ipython3",
   "version": "3.7.11"
  }
 },
 "nbformat": 4,
 "nbformat_minor": 5
}
