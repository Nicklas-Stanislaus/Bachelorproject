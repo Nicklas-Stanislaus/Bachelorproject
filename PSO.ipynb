{
 "cells": [
  {
   "cell_type": "code",
   "execution_count": 2,
   "id": "enormous-spelling",
   "metadata": {},
   "outputs": [],
   "source": [
    "import numpy as np\n",
    "import matplotlib.pyplot as plt"
   ]
  },
  {
   "cell_type": "code",
   "execution_count": 3,
   "id": "instant-lounge",
   "metadata": {},
   "outputs": [],
   "source": [
    "def fit_func(vs):\n",
    "    # paraboloid with minimum of 0 at (c, d) \n",
    "    #c, d = -2, 9\n",
    "    #z = (vs[0] - c)**2 + (vs[1] - d)**2 \n",
    "    \n",
    "    # unmodal function with minimum of -1 at (pi,pi)\n",
    "    #z = -np.cos(vs[0]) * np.cos(vs[1]) * np.exp(-((vs[0] - np.pi)**2 + (vs[1] - np.pi)**2))\n",
    "    \n",
    "    # ackley function with mininimum of 0 at (0, 0)\n",
    "    z = -20.0 * np.exp(-0.2 * np.sqrt(0.5 * (vs[0]**2 + vs[1]**2))) - np.exp(0.5 * (np.cos(2 * np.pi * vs[0]) + np.cos(2 * np.pi * vs[1]))) + np.e + 20\n",
    "    return z"
   ]
  },
  {
   "cell_type": "code",
   "execution_count": 34,
   "id": "technological-technology",
   "metadata": {},
   "outputs": [
    {
     "name": "stdout",
     "output_type": "stream",
     "text": [
      "The best position:  [ 0.00017326 -0.02535156]\n",
      "Value at best position:  0.08873099052970801\n"
     ]
    }
   ],
   "source": [
    "# implemented from pseudocode in \"Metaheurestics\" book \n",
    "\n",
    "#### Fitness function parameters\n",
    "dims = 2\n",
    "lims = [(-5, 5, dim) for dim in range(dims)]\n",
    "\n",
    "#### Algorithm parameters \n",
    "n_particles = 10 # Number of agents\n",
    "w = 0.72 # Inertia weight \n",
    "c1 = 1.2 # Cognitive coefficient\n",
    "c2 = 1.2 # Social coefficient\n",
    "v_max = 1 # maximum velocity \n",
    "iterations = 10\n",
    "\n",
    "#### initialization \n",
    "#current position of particles - randomly drawn from uniform distribution in the allowed range for variable\n",
    "current_pos = np.zeros(shape = (n_particles, dims))\n",
    "for lim_low, lim_up, dim in lims: \n",
    "    current_pos[:,dim] = np.random.uniform(lim_low, lim_up, n_particles) \n",
    "\n",
    "#current velocity of particle\n",
    "velocity = np.zeros(shape = (n_particles, dims)) \n",
    "for lim_low, lim_up, dim in lims: \n",
    "    velocity[:,dim] = np.random.uniform(lim_low, lim_up, n_particles) \n",
    "\n",
    "#Best position observed by particle\n",
    "best_pos = np.copy(current_pos) \n",
    "\n",
    "#index of overall best particle position \n",
    "index_best_overall = np.argmax([fit_func(x) for x in current_pos]) \n",
    "\n",
    "# data for visualization\n",
    "best_points = []\n",
    "\n",
    "### interation loop\n",
    "for it in range(iterations): \n",
    "    # Movement - calculating new position \n",
    "    velocity = w * velocity + c1 * (best_pos - current_pos) \\\n",
    "                            + c2 * (best_pos[index_best_overall] - current_pos)\n",
    " \n",
    "    velocity[velocity > v_max] = v_max \n",
    "    velocity[velocity < -v_max] = -v_max\n",
    "    \n",
    "    current_pos = current_pos + velocity\n",
    " \n",
    "    #Confinement - Keeping the particles within allowed bounds \n",
    "    for lim_low, lim_up, dim in lims: \n",
    "        pos_column = current_pos[:, dim] \n",
    "        vel_column = velocity[:, dim] \n",
    "        \n",
    "        index_where_larger = pos_column > lim_up \n",
    "        index_where_smaller = pos_column < lim_low\n",
    "        \n",
    "        # Positions where outside bounds set to either upper lim or lower lim of bound. Velocity set to zero\n",
    "        pos_column[index_where_larger] = lim_up\n",
    "        pos_column[index_where_smaller] = lim_low\n",
    "        vel_column[index_where_smaller + index_where_larger] = 0\n",
    "\n",
    "    #Memorization - remember the best positions of each particle. NOTICE: this is for minizization\n",
    "    for i in range(n_particles): \n",
    "        if fit_func(current_pos[i]) < fit_func(best_pos[i]):\n",
    "            #np.copy?\n",
    "            best_pos[i] = current_pos[i]\n",
    "        # Remember the overall best position\n",
    "        if fit_func(best_pos[i]) < fit_func(best_pos[index_best_overall]):\n",
    "            index_best_overall = i\n",
    "     \n",
    "    best_points.append(best_pos[index_best_overall]) # data for visualization\n",
    "    \n",
    "print(\"The best position: \", best_pos[index_best_overall])\n",
    "print(\"Value at best position: \", fit_func(best_pos[index_best_overall]))"
   ]
  },
  {
   "cell_type": "code",
   "execution_count": 36,
   "id": "popular-tampa",
   "metadata": {},
   "outputs": [
    {
     "data": {
      "image/png": "[encoded data removed]",
      "text/plain": [
       "<Figure size 432x288 with 2 Axes>"
      ]
     },
     "metadata": {
      "needs_background": "light"
     },
     "output_type": "display_data"
    }
   ],
   "source": [
    "back_x = np.linspace(-5, 5, 100)\n",
    "back_y = np.linspace(-5, 5, 100)\n",
    "\n",
    "X, Y = np.meshgrid(back_x, back_y)\n",
    "Z = fit_func([X, Y])\n",
    "\n",
    "plt.contourf(X, Y, Z, cmap='viridis');\n",
    "plt.colorbar();\n",
    "\n",
    "x = [point[0] for point in current_pos]\n",
    "y = [point[1] for point in current_pos]\n",
    "plt.scatter(x, y, color = \"Red\")\n",
    "plt.show()"
   ]
  },
  {
   "cell_type": "code",
   "execution_count": 35,
   "id": "brave-antenna",
   "metadata": {},
   "outputs": [
    {
     "data": {
      "image/png": "[encoded data removed]",
      "text/plain": [
       "<Figure size 432x288 with 1 Axes>"
      ]
     },
     "metadata": {
      "needs_background": "light"
     },
     "output_type": "display_data"
    }
   ],
   "source": [
    "# fitness for best points\n",
    "fitness_vals = [fit_func(x) for x in best_points]\n",
    "plt.plot(fitness_vals)\n",
    "plt.axhline(y=0, color='r', linestyle='-')\n",
    "plt.show()"
   ]
  }
 ],
 "metadata": {
  "kernelspec": {
   "display_name": "Python 3",
   "language": "python",
   "name": "python3"
  },
  "language_info": {
   "codemirror_mode": {
    "name": "ipython",
    "version": 3
   },
   "file_extension": ".py",
   "mimetype": "text/x-python",
   "name": "python",
   "nbconvert_exporter": "python",
   "pygments_lexer": "ipython3",
   "version": "3.9.1"
  }
 },
 "nbformat": 4,
 "nbformat_minor": 5
}
