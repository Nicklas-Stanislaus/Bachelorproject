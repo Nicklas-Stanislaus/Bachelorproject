{
 "cells": [
  {
   "cell_type": "code",
   "execution_count": 1,
   "id": "bridal-pulse",
   "metadata": {},
   "outputs": [],
   "source": [
    "# Importing testfunctions and algorithms\n",
    "import numpy as np\n",
    "\n",
    "import TestFunctionsAndBoundaries.TestFunctions as tf\n",
    "\n",
    "from Algorithms.PSO import PSO\n",
    "from Algorithms.GA import GA\n",
    "from Algorithms.SA import SA\n",
    "from Algorithms.TS import TS \n"
   ]
  },
  {
   "cell_type": "code",
   "execution_count": 3,
   "id": "spectacular-poison",
   "metadata": {},
   "outputs": [
    {
     "name": "stdout",
     "output_type": "stream",
     "text": [
      "[ -7.63782906   2.1723593   15.0264978  -15.71143062   1.73801142\n",
      "  20.98341567   8.30233836  -8.08383174   4.71522102 -15.8524336 ]\n",
      "[  4.07942925   5.53508823  -3.69088005  -7.44656893  -1.30487493\n",
      "   7.42158364   4.39211342 -16.63535859  -1.26175487   1.46150581]\n",
      "[-3.02615793  5.37847157  0.79178497  0.15805457  5.17266352  7.36373288\n",
      " -6.98793596 10.80543003  4.68435622 -5.1567931 ]\n",
      "[-0.09257796  0.02894317  0.02958946 -0.04269387  0.03954437  0.10103799\n",
      " -0.00592808 -0.07339703  0.17321468  0.04464284]\n"
     ]
    }
   ],
   "source": [
    "# Testing functions\n",
    "print(PSO(tf.Ackley, tf.Ackley_bounds, 10))\n",
    "print(GA(tf.Ackley, tf.Ackley_bounds, 10))\n",
    "print(GA(tf.Ackley, tf.Ackley_bounds, 10))\n",
    "print(TS(tf.Ackley, tf.Ackley_bounds, 10))"
   ]
  },
  {
   "cell_type": "code",
   "execution_count": 7,
   "id": "f6a3bff8-bad8-494a-bee2-c1e146624e69",
   "metadata": {},
   "outputs": [],
   "source": [
    "benchmark_functions = [(\"Sphere\", tf.Sphere, tf.Sphere_bounds, tf.Sphere_opt), \n",
    "                       (\"Elliptic\", tf.Elliptic, tf.Elliptic_bounds, tf.Elliptic_opt),\n",
    "                       (\"Rastrigin\", tf.Rastrigin, tf.Rastrigin_bounds, tf.Rastrigin_opt),\n",
    "                       (\"Ackley\", tf.Ackley, tf.Ackley_bounds, tf.Ackley_opt),\n",
    "                       (\"Schwefel_1_2\", tf.Schwefel_1_2, tf.Schwefel_1_2_bounds, tf.Schwefel_1_2_opt),\n",
    "                       (\"Schwefel\", tf.Schwefel, tf.Schwefel_bounds, tf.Schwefel_opt),\n",
    "                       (\"Rosenbrock\", tf.Rosenbrock, tf.Rosenbrock_bounds, tf.Rosenbrock_opt),\n",
    "                       (\"Griewank\", tf.Griewank, tf.Griewank_bounds, tf.Griewank_opt),\n",
    "                       (\"Sum_of_different_powers\", tf.Sum_of_different_powers, tf.Sum_of_different_powers_bounds, tf.Sum_of_different_powers_opt),\n",
    "                       (\"Sum_squares\", tf.Sum_squares, tf.Sum_squares_bounds, tf.Sum_squares_opt)]\n"
   ]
  },
  {
   "cell_type": "code",
   "execution_count": 9,
   "id": "0945fe43-5fb9-422e-af16-f5efd8996587",
   "metadata": {},
   "outputs": [
    {
     "name": "stdout",
     "output_type": "stream",
     "text": [
      "--- Sphere ---\n",
      "PSO results:  0.02640540991564709\n",
      "Actual Optimum:  0\n",
      "\n",
      "\n",
      "--- Elliptic ---\n",
      "PSO results:  108.09439513209094\n",
      "Actual Optimum:  0\n",
      "\n",
      "\n",
      "--- Rastrigin ---\n",
      "PSO results:  0.20717558628249222\n",
      "Actual Optimum:  0\n",
      "\n",
      "\n",
      "--- Ackley ---\n",
      "PSO results:  9.064213227893493\n",
      "Actual Optimum:  0\n",
      "\n",
      "\n",
      "--- Schwefel_1_2 ---\n",
      "PSO results:  0.0005586612489810812\n",
      "Actual Optimum:  0\n",
      "\n",
      "\n",
      "--- Schwefel ---\n",
      "PSO results:  221.37340156021696\n",
      "Actual Optimum:  0\n",
      "\n",
      "\n",
      "--- Rosenbrock ---\n",
      "PSO results:  0.03567790311955102\n",
      "Actual Optimum:  0\n",
      "\n",
      "\n",
      "--- Griewank ---\n",
      "PSO results:  17.773787708785836\n",
      "Actual Optimum:  0\n",
      "\n",
      "\n",
      "--- Sum_of_different_powers ---\n",
      "PSO results:  0.0\n",
      "Actual Optimum:  0\n",
      "\n",
      "\n",
      "--- Sum_squares ---\n",
      "PSO results:  0.004234450100763568\n",
      "Actual Optimum:  0\n",
      "\n",
      "\n"
     ]
    }
   ],
   "source": [
    "for name, fit_func, bounds, opt in benchmark_functions:\n",
    "    print(\"--- \" + name +  \" ---\")\n",
    "    print(\"PSO results: \", fit_func(PSO(fit_func, bounds, 2)))\n",
    "    print(\"Actual Optimum: \", opt)\n",
    "    print(\"\\n\")"
   ]
  },
  {
   "cell_type": "code",
   "execution_count": 67,
   "id": "b8c74600-d378-4c5c-a281-0c74fb464741",
   "metadata": {},
   "outputs": [
    {
     "data": {
      "text/plain": [
       "[array([ 0.49339519, -0.92310544]),\n",
       " array([-0.05458241,  1.13798504]),\n",
       " array([-0.09447907, -0.93436575]),\n",
       " array([-0.09447907, -0.93436575]),\n",
       " array([-0.09447907, -0.93436575]),\n",
       " array([-0.09447907, -0.93436575]),\n",
       " array([-0.09447907, -0.93436575]),\n",
       " array([-0.18108379,  0.28158845]),\n",
       " array([-0.18108379,  0.28158845]),\n",
       " array([-0.18108379,  0.28158845])]"
      ]
     },
     "execution_count": 67,
     "metadata": {},
     "output_type": "execute_result"
    }
   ],
   "source": [
    "data_viz = PSO(tf.Ackley, tf.Ackley_bounds, 2, v_max = 10, iterations = 10, visualize = True)\n",
    "data_viz"
   ]
  }
 ],
 "metadata": {
  "kernelspec": {
   "display_name": "Python 3 (ipykernel)",
   "language": "python",
   "name": "python3"
  },
  "language_info": {
   "codemirror_mode": {
    "name": "ipython",
    "version": 3
   },
   "file_extension": ".py",
   "mimetype": "text/x-python",
   "name": "python",
   "nbconvert_exporter": "python",
   "pygments_lexer": "ipython3",
   "version": "3.7.11"
  }
 },
 "nbformat": 4,
 "nbformat_minor": 5
}
