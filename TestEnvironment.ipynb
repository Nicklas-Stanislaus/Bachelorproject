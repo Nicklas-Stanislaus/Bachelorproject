{
 "cells": [
  {
   "cell_type": "code",
   "execution_count": 2,
   "id": "pretty-queue",
   "metadata": {},
   "outputs": [],
   "source": [
    "# Importing testfunctions and algorithms\n",
    "import numpy as np\n",
    "import matplotlib.pyplot as plt\n",
    "\n",
    "import TestFunctionsAndBoundaries.TestFunctions as tf\n",
    "\n",
    "from Algorithms.PSO import PSO\n",
    "from Algorithms.GA import GA\n",
    "from Algorithms.SA import SA\n",
    "from Algorithms.TS import TS \n"
   ]
  },
  {
   "cell_type": "code",
   "execution_count": 3,
   "id": "varying-cambodia",
   "metadata": {},
   "outputs": [
    {
     "name": "stdout",
     "output_type": "stream",
     "text": [
      "[ -2.01566077 -14.31588281 -13.85929227   8.2899374  -10.26845586\n",
      "   6.91284984 -18.43239199   3.2180371   -0.83320303  -6.11103088]\n",
      "[ 1.23211957e+00 -2.96518660e-02  7.27649729e+00  1.73184995e+00\n",
      " -8.73837171e-02  1.54179331e+01  2.40355604e-03  1.80166664e+00\n",
      " -6.14798328e+00  1.04217577e+01]\n",
      "[ 27.50021189 -19.30673932  20.8139109   17.5516656  -12.18912193\n",
      " -16.57040784  17.62013102 -15.21351313 -32.7         26.78062043]\n",
      "[ 15.173675    -6.07419545 -11.13524785   0.89656766 -12.2435085\n",
      "   7.9595406    2.78425428   3.90068594  11.18918874  10.90347124]\n"
     ]
    }
   ],
   "source": [
    "# Testing functions\n",
    "print(PSO(tf.Ackley, tf.Ackley_bounds, 10))\n",
    "print(GA(tf.Ackley, tf.Ackley_bounds, 10))\n",
    "print(SA(tf.Ackley, tf.Ackley_bounds, 10))\n",
    "print(TS(tf.Ackley, tf.Ackley_bounds, 10))"
   ]
  },
  {
   "cell_type": "code",
   "execution_count": 4,
   "id": "representative-contest",
   "metadata": {},
   "outputs": [],
   "source": [
    "benchmark_functions = [(\"Sphere\", tf.Sphere, tf.Sphere_bounds, tf.Sphere_opt), \n",
    "                       (\"Elliptic\", tf.Elliptic, tf.Elliptic_bounds, tf.Elliptic_opt),\n",
    "                       (\"Rastrigin\", tf.Rastrigin, tf.Rastrigin_bounds, tf.Rastrigin_opt),\n",
    "                       (\"Ackley\", tf.Ackley, tf.Ackley_bounds, tf.Ackley_opt),\n",
    "                       (\"Schwefel_1_2\", tf.Schwefel_1_2, tf.Schwefel_1_2_bounds, tf.Schwefel_1_2_opt),\n",
    "                       (\"Schwefel\", tf.Schwefel, tf.Schwefel_bounds, tf.Schwefel_opt),\n",
    "                       (\"Rosenbrock\", tf.Rosenbrock, tf.Rosenbrock_bounds, tf.Rosenbrock_opt),\n",
    "                       (\"Griewank\", tf.Griewank, tf.Griewank_bounds, tf.Griewank_opt),\n",
    "                       (\"Sum_of_different_powers\", tf.Sum_of_different_powers, tf.Sum_of_different_powers_bounds, tf.Sum_of_different_powers_opt),\n",
    "                       (\"Sum_squares\", tf.Sum_squares, tf.Sum_squares_bounds, tf.Sum_squares_opt)]\n"
   ]
  },
  {
   "cell_type": "code",
   "execution_count": 5,
   "id": "pointed-pierre",
   "metadata": {},
   "outputs": [
    {
     "name": "stdout",
     "output_type": "stream",
     "text": [
      "--- Sphere ---\n",
      "PSO results:  0.01080736714924161\n",
      "Actual Optimum:  0\n",
      "\n",
      "\n",
      "--- Elliptic ---\n",
      "PSO results:  903.9003384189364\n",
      "Actual Optimum:  0\n",
      "\n",
      "\n",
      "--- Rastrigin ---\n",
      "PSO results:  11.914619220874506\n",
      "Actual Optimum:  0\n",
      "\n",
      "\n",
      "--- Ackley ---\n",
      "PSO results:  14.991586909480421\n",
      "Actual Optimum:  0\n",
      "\n",
      "\n",
      "--- Schwefel_1_2 ---\n",
      "PSO results:  79.00675844399606\n",
      "Actual Optimum:  0\n",
      "\n",
      "\n",
      "--- Schwefel ---\n",
      "PSO results:  844.9937397788208\n",
      "Actual Optimum:  0\n",
      "\n",
      "\n",
      "--- Rosenbrock ---\n",
      "PSO results:  9.329237945231322\n",
      "Actual Optimum:  0\n",
      "\n",
      "\n",
      "--- Griewank ---\n",
      "PSO results:  11.525119013079983\n",
      "Actual Optimum:  0\n",
      "\n",
      "\n",
      "--- Sum_of_different_powers ---\n",
      "PSO results:  3.375784937986945e-13\n",
      "Actual Optimum:  0\n",
      "\n",
      "\n",
      "--- Sum_squares ---\n",
      "PSO results:  0.260714577118214\n",
      "Actual Optimum:  0\n",
      "\n",
      "\n"
     ]
    }
   ],
   "source": [
    "# Testing benchmark functions\n",
    "for name, fit_func, bounds, opt in benchmark_functions:\n",
    "    print(\"--- \" + name +  \" ---\")\n",
    "    print(\"PSO results: \", fit_func(PSO(fit_func, bounds, 3, iterations = 10)))\n",
    "    print(\"Actual Optimum: \", opt)\n",
    "    print(\"\\n\")"
   ]
  },
  {
   "cell_type": "code",
   "execution_count": 6,
   "id": "exclusive-university",
   "metadata": {},
   "outputs": [],
   "source": [
    "# Testing visualization data output \n",
    "its = 20\n",
    "\n",
    "data_viz_PSO = PSO(tf.Ackley, tf.Ackley_bounds, 2, iterations = its, v_max = 10, visualize = True)\n",
    "#print(data_viz_PSO, \"\\n\")\n",
    "\n",
    "data_viz_GA = GA(tf.Ackley, tf.Ackley_bounds, 2, iterations = its, visualize = True)\n",
    "#print(data_viz_GA, \"\\n\")\n",
    "\n",
    "data_viz_TS = TS(tf.Ackley, tf.Ackley_bounds, 2, iterations = its, visualize = True)\n",
    "#print(data_viz_TS, \"\\n\")\n",
    "\n",
    "data_viz_SA = SA(tf.Ackley, tf.Ackley_bounds, 2, iterations = its,  visualize = True)\n",
    "#print(data_viz_SA, \"\\n\")\n",
    "\n"
   ]
  },
  {
   "cell_type": "code",
   "execution_count": 7,
   "id": "celtic-routine",
   "metadata": {},
   "outputs": [
    {
     "data": {
      "image/png": "[encoded data removed]",
      "text/plain": [
       "<Figure size 432x288 with 4 Axes>"
      ]
     },
     "metadata": {
      "needs_background": "light"
     },
     "output_type": "display_data"
    }
   ],
   "source": [
    "length = len(data_viz_PSO)\n",
    "fit_values_PSO = [tf.Ackley(x) for x in data_viz_PSO]\n",
    "fit_values_GA = [tf.Ackley(x) for x in data_viz_GA]\n",
    "fit_values_TS = [tf.Ackley(x) for x in data_viz_TS]\n",
    "fit_values_SA = [tf.Ackley(x) for x in data_viz_SA[:length]]\n",
    "\n",
    "\n",
    "iterations = list(range(length))\n",
    "placeholder_x = iterations\n",
    "placeholder_y = iterations\n",
    "\n",
    "fig, axs = plt.subplots(2, 2)\n",
    "\n",
    "axs[0, 0].plot(iterations, fit_values_PSO, color = \"purple\")\n",
    "axs[0, 0].plot(iterations, fit_values_TS, color = \"yellow\")\n",
    "axs[0, 0].plot(iterations, fit_values_GA, color = \"green\")\n",
    "axs[0, 0].plot(iterations, fit_values_SA, color = \"blue\")\n",
    "axs[0, 0].axhline(y=0.0, color='r', linestyle='dotted')\n",
    "axs[0, 0].set_title('Ackley')\n",
    "\n",
    "axs[0, 1].plot(placeholder_x, placeholder_y, color = 'orange')\n",
    "axs[0, 1].set_title('Placeholder')\n",
    "axs[1, 0].plot(placeholder_x, placeholder_y, color = 'green')\n",
    "axs[1, 0].set_title('Placeholder')\n",
    "axs[1, 1].plot(placeholder_x, placeholder_y, color = 'red')\n",
    "axs[1, 1].set_title('Placeholder')\n",
    "\n",
    "# Set labels\n",
    "for ax in axs.flat:\n",
    "    ax.set(xlabel='Iterations', ylabel='Fitness value')\n",
    "\n",
    "# Hide x labels and tick labels for top plots and y ticks for right plots\n",
    "for ax in axs.flat:\n",
    "    ax.label_outer()"
   ]
  }
 ],
 "metadata": {
  "kernelspec": {
   "display_name": "Python 3",
   "language": "python",
   "name": "python3"
  },
  "language_info": {
   "codemirror_mode": {
    "name": "ipython",
    "version": 3
   },
   "file_extension": ".py",
   "mimetype": "text/x-python",
   "name": "python",
   "nbconvert_exporter": "python",
   "pygments_lexer": "ipython3",
   "version": "3.9.1"
  }
 },
 "nbformat": 4,
 "nbformat_minor": 5
}
