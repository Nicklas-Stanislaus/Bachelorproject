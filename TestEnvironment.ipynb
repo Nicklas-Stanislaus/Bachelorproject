{
 "cells": [
  {
   "cell_type": "code",
   "execution_count": 1,
   "id": "bridal-pulse",
   "metadata": {},
   "outputs": [],
   "source": [
    "import numpy as np\n",
    "\n",
    "import TestFunctionsAndBoundaries.TestFunctions as tf\n",
    "\n",
    "from Algorithms.PSO import PSO\n",
    "from Algorithms.GA import GA\n",
    "from Algorithms.SA import SA\n",
    "from Algorithms.TS import TS \n"
   ]
  },
  {
   "cell_type": "code",
   "execution_count": 8,
   "id": "spectacular-poison",
   "metadata": {},
   "outputs": [
    {
     "name": "stdout",
     "output_type": "stream",
     "text": [
      "[ 3.73595990e+00  3.11254299e+00 -2.20804799e-03  2.43544500e+00\n",
      " -7.00366342e+00  1.33105952e+01 -2.07776619e+01 -9.47322064e+00\n",
      "  3.94630746e+00  9.19920602e+00]\n",
      "[  0.72598559  -9.23749067 -18.03869653  -2.25907261   8.84745172\n",
      "  -8.06220889  -0.21069189   9.27861797  -2.86262388   6.07272337]\n",
      "[ -2.86560374   5.48909857  -4.15925273   0.33871977  -1.21512008\n",
      "  -0.36549907 -12.0854286    9.75969697  14.94370477  -9.5490323 ]\n",
      "[-0.04392932 -0.06185974 -0.0700332   0.12551107  0.08121352 -0.14100797\n",
      "  0.06327475  0.04575784 -0.05690247  0.07694805]\n"
     ]
    }
   ],
   "source": [
    "print(PSO(tf.Ackley, tf.Ackley_bounds, 10))\n",
    "print(GA(tf.Ackley, tf.Ackley_bounds, 10))\n",
    "print(GA(tf.Ackley, tf.Ackley_bounds, 10))\n",
    "print(TS(tf.Ackley, tf.Ackley_bounds, 10))"
   ]
  }
 ],
 "metadata": {
  "kernelspec": {
   "display_name": "Python 3",
   "language": "python",
   "name": "python3"
  },
  "language_info": {
   "codemirror_mode": {
    "name": "ipython",
    "version": 3
   },
   "file_extension": ".py",
   "mimetype": "text/x-python",
   "name": "python",
   "nbconvert_exporter": "python",
   "pygments_lexer": "ipython3",
   "version": "3.9.1"
  }
 },
 "nbformat": 4,
 "nbformat_minor": 5
}
