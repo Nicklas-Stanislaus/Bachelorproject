{
 "cells": [
  {
   "cell_type": "code",
   "execution_count": 6,
   "id": "architectural-client",
   "metadata": {},
   "outputs": [],
   "source": [
    "import numpy as np\n",
    "import matplotlib.pyplot as plt"
   ]
  },
  {
   "cell_type": "code",
   "execution_count": 2,
   "id": "polish-drawing",
   "metadata": {},
   "outputs": [],
   "source": [
    "def fit_func(vs):\n",
    "    # paraboloid with minimum of 0 at (c, d) \n",
    "    #c, d = -2, 9\n",
    "    #z = (vs[0] - c)**2 + (vs[1] - d)**2 \n",
    "    \n",
    "    # unmodal function with minimum of -1 at (pi,pi)\n",
    "    #z = -np.cos(vs[0]) * np.cos(vs[1]) * np.exp(-((vs[0] - np.pi)**2 + (vs[1] - np.pi)**2))\n",
    "    \n",
    "    # ackley function with mininimum of 0 at (0, 0)\n",
    "    z = -20.0 * np.exp(-0.2 * np.sqrt(0.5 * (vs[0]**2 + vs[1]**2))) - np.exp(0.5 * (np.cos(2 * np.pi * vs[0]) + np.cos(2 * np.pi * vs[1]))) + np.e + 20\n",
    "    return z"
   ]
  },
  {
   "cell_type": "code",
   "execution_count": 16,
   "id": "perceived-picnic",
   "metadata": {},
   "outputs": [
    {
     "name": "stdout",
     "output_type": "stream",
     "text": [
      "The best position:  [ 0.04974329 -0.15453382]\n",
      "Value at best position:  1.038159832063922\n"
     ]
    }
   ],
   "source": [
    "### Implemented from describitons in \"Practical Genetic Algorithms\" \n",
    "\n",
    "# Fitness function parameters\n",
    "dims = 2\n",
    "lims = [(-5, 5, dim) for dim in range(dims)]\n",
    "\n",
    "# Algorithm parameters\n",
    "n_pop = 10 # number of chromosomes / population size\n",
    "iterations = 10\n",
    "x_rate = 0.5 # Percentage of population to kill off between generations\n",
    "mutation_rate = 0.2 # percentage of variable that can be mutated, not including the best chromosome variables\n",
    "\n",
    "#Derived parameters\n",
    "n_keep = int(np.ceil(n_pop * x_rate)) # number of chromosomes to keep\n",
    "total_mutations = int(np.ceil(dims * (n_pop - 1) * mutation_rate)) # Exclude 1 chromosome, the best, due to elitism\n",
    "\n",
    "# Create inital population of chromosomes\n",
    "chromosomes = np.zeros(shape = (n_pop, dims))\n",
    "for lim_low, lim_up, dim in lims: \n",
    "    chromosomes[:,dim] = np.random.uniform(lim_low, lim_up, n_pop) \n",
    "    \n",
    "# Compute cumulative probabilities using ranked weighting\n",
    "ranked_weights = []\n",
    "sum_n = sum([n for n in range(1, n_keep + 1)])\n",
    "p_cumulative = 0\n",
    "for i in range(1, n_keep + 1):\n",
    "    p = (n_keep + 1 - i) / sum_n\n",
    "    p_cumulative += p \n",
    "    ranked_weights.append(p_cumulative)\n",
    "\n",
    "# for visualizing data \n",
    "best_points = []\n",
    "\n",
    "for i in range(iterations): \n",
    "    # Sort by fittest chromosomes in descending order (smallest value ranked 1)\n",
    "    chromosomes = np.array(sorted(chromosomes, key = lambda x: fit_func(x)))\n",
    "    \n",
    "    # pair chromosomes and mate them to produce ofspring until population restored. \n",
    "    offspring_created = 0\n",
    "    n_replace = n_pop - n_keep\n",
    "    while offspring_created < n_replace: \n",
    "        \n",
    "        # select parents among n_keep best chromosomes according to ranked probabilities. If both indexes are the same, redraw\n",
    "        index_p1, index_p2 = None, None\n",
    "        while index_p1 == index_p2: \n",
    "            index_p1 = next(x[0] for x in enumerate(ranked_weights) if x[1] > np.random.rand())\n",
    "            index_p2 = next(x[0] for x in enumerate(ranked_weights) if x[1] > np.random.rand())\n",
    "        \n",
    "        # find a randomly selected crossover point\n",
    "        cp = int(np.ceil(np.random.rand() * dims) - 1)\n",
    "   \n",
    "        # add first offspring - Method for creating offspring uses a combination of extrapolation and crossover \n",
    "        beta = np.random.rand()\n",
    "        p_new1 = chromosomes[index_p1, cp] - beta * (chromosomes[index_p1, cp] - chromosomes[index_p2, cp])\n",
    "        offspring_index = n_keep + offspring_created\n",
    "        chromosomes[offspring_index, ] = np.concatenate((chromosomes[index_p1, :cp], p_new1 ,chromosomes[index_p2, cp + 1:]), axis = None)\n",
    "        offspring_created += 1\n",
    "        \n",
    "        # If no more offspring needed break loop, else add second offspring\n",
    "        if offspring_created == n_replace: break\n",
    "        \n",
    "        # NOTICE: parents swap sides\n",
    "        p_new2 = chromosomes[index_p2, cp] + beta * (chromosomes[index_p1, cp] - chromosomes[index_p2, cp])\n",
    "        offspring_index = n_keep + offspring_created\n",
    "        chromosomes[offspring_index, ] = np.concatenate((chromosomes[index_p2, :cp], p_new2 ,chromosomes[index_p1, cp + 1:]), axis = None)\n",
    "        offspring_created += 1\n",
    "        \n",
    "    # Create mutatations in range allowed for the given mutated variable\n",
    "    for mutation in range(total_mutations):\n",
    "        row = np.random.randint(low = 1, high = n_pop)\n",
    "        column = np.random.randint(dims)\n",
    "        chromosomes[row, column] = np.random.uniform(low = lims[column][0], high = lims[column][1])\n",
    "        \n",
    "    best_points.append(chromosomes[0,]) #data for visualization \n",
    "\n",
    "        \n",
    "print(\"The best position: \", chromosomes[0,])  \n",
    "print(\"Value at best position: \", fit_func(chromosomes[0,]))\n"
   ]
  },
  {
   "cell_type": "code",
   "execution_count": 17,
   "id": "historical-score",
   "metadata": {},
   "outputs": [
    {
     "data": {
      "image/png": "[encoded data removed]",
      "text/plain": [
       "<Figure size 432x288 with 2 Axes>"
      ]
     },
     "metadata": {
      "needs_background": "light"
     },
     "output_type": "display_data"
    }
   ],
   "source": [
    "back_x = np.linspace(-5, 5, 100)\n",
    "back_y = np.linspace(-5, 5, 100)\n",
    "\n",
    "X, Y = np.meshgrid(back_x, back_y)\n",
    "Z = fit_func([X, Y])\n",
    "\n",
    "plt.contourf(X, Y, Z, cmap='viridis');\n",
    "plt.colorbar();\n",
    "\n",
    "x = [point[0] for point in chromosomes]\n",
    "y = [point[1] for point in chromosomes]\n",
    "plt.scatter(x, y, color = \"Red\")\n",
    "plt.show()"
   ]
  },
  {
   "cell_type": "code",
   "execution_count": 18,
   "id": "variable-premium",
   "metadata": {},
   "outputs": [
    {
     "data": {
      "image/png": "[encoded data removed]",
      "text/plain": [
       "<Figure size 432x288 with 1 Axes>"
      ]
     },
     "metadata": {
      "needs_background": "light"
     },
     "output_type": "display_data"
    }
   ],
   "source": [
    "# fitness for best points\n",
    "fitness_vals = [fit_func(x) for x in best_points]\n",
    "plt.plot(fitness_vals)\n",
    "plt.axhline(y=0, color='r', linestyle='-')\n",
    "plt.show()"
   ]
  }
 ],
 "metadata": {
  "kernelspec": {
   "display_name": "Python 3",
   "language": "python",
   "name": "python3"
  },
  "language_info": {
   "codemirror_mode": {
    "name": "ipython",
    "version": 3
   },
   "file_extension": ".py",
   "mimetype": "text/x-python",
   "name": "python",
   "nbconvert_exporter": "python",
   "pygments_lexer": "ipython3",
   "version": "3.9.1"
  }
 },
 "nbformat": 4,
 "nbformat_minor": 5
}
