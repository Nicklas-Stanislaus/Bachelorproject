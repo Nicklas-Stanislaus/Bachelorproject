{
 "cells": [
  {
   "cell_type": "code",
   "execution_count": 17,
   "id": "engaged-husband",
   "metadata": {},
   "outputs": [],
   "source": [
    "import numpy as np"
   ]
  },
  {
   "cell_type": "code",
   "execution_count": 1,
   "id": "southwest-portable",
   "metadata": {},
   "outputs": [],
   "source": [
    "# def area [-5.12, 5.12] with optimum at (0,0,0,..,0) with value 0\n",
    "def Sphere(v):\n",
    "    y = sum([v[i]**2 for i in range(len(v))])\n",
    "    return y"
   ]
  },
  {
   "cell_type": "code",
   "execution_count": 2,
   "id": "private-department",
   "metadata": {},
   "outputs": [],
   "source": [
    "# Def space [-100, 100] with optimum at (0,0,0,..,0) with value 0\n",
    "def Elliptic(v):\n",
    "    y = sum([10**(6*((i-1)/(len(v))))*v[i]**2 for i in range(len(v))])\n",
    "    return y"
   ]
  },
  {
   "cell_type": "code",
   "execution_count": 3,
   "id": "official-bahamas",
   "metadata": {},
   "outputs": [],
   "source": [
    "# def area [-5.12, 5.12] with optimum at (0,0,0,..,0) with value 0\n",
    "def Rastrigin(v): \n",
    "    y = 10 * len(v) + sum([v[i]**2 - 10*np.cos(2*np.pi*v[i]) for i in range(len(v))])\n",
    "    return y"
   ]
  },
  {
   "cell_type": "code",
   "execution_count": 71,
   "id": "equal-capability",
   "metadata": {},
   "outputs": [],
   "source": [
    "# def space [-32.7, 32.7] with optimum at (0,0,0,..,0) with value 0\n",
    "def Ackley(v):\n",
    "    exp_inner1 = -0.2*np.sqrt((1/len(v))*sum([v[i]**2 for i in range(len(v))]))\n",
    "    exp_inner2 = (1/len(v))*sum([np.cos(2*np.pi*v[i]) for i in range(len(v))])\n",
    "    y = -20*np.exp(exp_inner1) - np.exp(exp_inner2) + 20 + np.e\n",
    "    return y"
   ]
  },
  {
   "cell_type": "code",
   "execution_count": 7,
   "id": "controlling-wedding",
   "metadata": {},
   "outputs": [],
   "source": [
    "# def space [-100, 100] with optimum at (0,0,0,..,0) with value 0\n",
    "def Schwefel_1_2(v):\n",
    "    y = sum([sum([v[j] for j in range(i)])**2 for i in range(len(v))])\n",
    "    return y"
   ]
  },
  {
   "cell_type": "code",
   "execution_count": 36,
   "id": "armed-twist",
   "metadata": {},
   "outputs": [],
   "source": [
    "# def space [-500, 500] with optimum at (420.968746359982025,420.968746359982025,..,420.968746359982025) with value 0\n",
    "def Schwefel(v):\n",
    "    y = 418.9828872724337*len(v) - sum([v[i] * np.sin(np.sqrt(abs(v[i]))) for i in range(len(v))])\n",
    "    return y"
   ]
  },
  {
   "cell_type": "code",
   "execution_count": 9,
   "id": "musical-drove",
   "metadata": {},
   "outputs": [],
   "source": [
    "# def space [-5, 10] with optimum at (1,1,1,...,1) with value 0\n",
    "def Rosenbrock(v):\n",
    "    y = sum([100*(v[i+1] - v[i]**2)**2 + (1 - v[i])**2 for i in range(len(v) - 1)])\n",
    "    return y "
   ]
  },
  {
   "cell_type": "code",
   "execution_count": 52,
   "id": "outside-coast",
   "metadata": {},
   "outputs": [],
   "source": [
    "# def space [-600, 600] with optimum at (0,0,0..,0) with value 0 \n",
    "def Griewank(v):\n",
    "    y = sum([(v[i]**2)/4000 for i in range(len(v))]) - np.prod([np.cos(v[i]/np.sqrt(i + 1)) for i in range(len(v))]) + 1 \n",
    "    return y"
   ]
  },
  {
   "cell_type": "code",
   "execution_count": 67,
   "id": "light-verse",
   "metadata": {},
   "outputs": [],
   "source": [
    "# def space [-1, 1] with optimum at (0,0,0..,0) with value 0 \n",
    "def Sum_of_different_powers(v): \n",
    "    y = sum([abs(v[i])**(i+2) for i in range(len(v))])\n",
    "    return y "
   ]
  },
  {
   "cell_type": "code",
   "execution_count": 62,
   "id": "nervous-surrey",
   "metadata": {},
   "outputs": [],
   "source": [
    "# def space [-10, 10] with optimum at (0,0,0..,0) with value 0 \n",
    "def Sum_squares(v):\n",
    "    y = sum([(i+1)*v[i]**2 for i in range(len(v))])\n",
    "    return y"
   ]
  }
 ],
 "metadata": {
  "kernelspec": {
   "display_name": "Python 3",
   "language": "python",
   "name": "python3"
  },
  "language_info": {
   "codemirror_mode": {
    "name": "ipython",
    "version": 3
   },
   "file_extension": ".py",
   "mimetype": "text/x-python",
   "name": "python",
   "nbconvert_exporter": "python",
   "pygments_lexer": "ipython3",
   "version": "3.9.1"
  }
 },
 "nbformat": 4,
 "nbformat_minor": 5
}
